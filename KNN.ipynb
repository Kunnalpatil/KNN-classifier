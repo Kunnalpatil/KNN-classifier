{
 "cells": [
  {
   "cell_type": "markdown",
   "id": "e6c19624",
   "metadata": {},
   "source": [
    "## KNN(K nearest Neighbours )\n",
    "### Identifies some closest neighbours to the new point \n",
    "\n",
    "### Assigns the new point to the categogary  to which the majority of points belongs "
   ]
  },
  {
   "cell_type": "markdown",
   "id": "2ddd0aae",
   "metadata": {},
   "source": [
    "# Step 1\n",
    "## Find distance between two points \n",
    "### Can be done using pythagoras theorem"
   ]
  },
  {
   "cell_type": "code",
   "execution_count": 1,
   "id": "0e8c549e",
   "metadata": {},
   "outputs": [
    {
     "data": {
      "text/plain": [
       "4.242640687119285"
      ]
     },
     "execution_count": 1,
     "metadata": {},
     "output_type": "execute_result"
    }
   ],
   "source": [
    "import numpy as np\n",
    "def distance(p1 , p2):\n",
    "    return np.sqrt(np.sum(np.power(p1-p2,2)))\n",
    "\n",
    "\n",
    "p1 = np.array([1,1])\n",
    "p2 = np.array([4,4])\n",
    "\n",
    "distance(p1 , p2)"
   ]
  },
  {
   "cell_type": "markdown",
   "id": "c84910e8",
   "metadata": {},
   "source": [
    "# Function to count the majority of votes"
   ]
  },
  {
   "cell_type": "code",
   "execution_count": 2,
   "id": "e50d93bb",
   "metadata": {},
   "outputs": [
    {
     "data": {
      "text/plain": [
       "7"
      ]
     },
     "execution_count": 2,
     "metadata": {},
     "output_type": "execute_result"
    }
   ],
   "source": [
    "import random\n",
    "\n",
    "def majority_vote(votes):\n",
    "    vote_counts = {}\n",
    "    for vote in votes:\n",
    "        if vote in vote_counts:\n",
    "            vote_counts[vote] += 1\n",
    "        else:\n",
    "            vote_counts[vote] = 1\n",
    "            \n",
    "            \n",
    "    winner=[]\n",
    "    max_count = max(vote_counts.values())\n",
    "    for vote , count in vote_counts.items():\n",
    "        if count == max_count:\n",
    "            winner.append(vote)\n",
    "            \n",
    "    return random.choice(winner)\n",
    "\n",
    "\n",
    "votes = [1,2,3,3,4,4,5,5,5,5,6,7,7,7,7]\n",
    "\n",
    "majority_vote(votes)"
   ]
  },
  {
   "cell_type": "markdown",
   "id": "bbdd46ed",
   "metadata": {},
   "source": [
    "# Find nearest points "
   ]
  },
  {
   "cell_type": "code",
   "execution_count": 3,
   "id": "ec146177",
   "metadata": {},
   "outputs": [],
   "source": [
    "# Loop aver all points \n",
    "    # compute the distance between point p and every other point\n",
    "# sort distances and return those k points that are nearest to point p"
   ]
  },
  {
   "cell_type": "code",
   "execution_count": 4,
   "id": "e6fc256e",
   "metadata": {},
   "outputs": [
    {
     "data": {
      "text/plain": [
       "(0.5, 3.5, 0.5, 3.5)"
      ]
     },
     "execution_count": 4,
     "metadata": {},
     "output_type": "execute_result"
    },
    {
     "data": {
      "image/png": "[encoded data removed]",
      "text/plain": [
       "<Figure size 432x288 with 1 Axes>"
      ]
     },
     "metadata": {
      "needs_background": "light"
     },
     "output_type": "display_data"
    }
   ],
   "source": [
    "import matplotlib.pyplot as plt\n",
    "\n",
    "points = np.array([[1,1],[1,2],[1,3],[2,1],[2,2],[2,3],[3,1],[3,2],[3,3]])\n",
    "p = np.array([2.5,2])\n",
    "\n",
    "plt.plot(points[:,0],points[:,1],\"ro\")\n",
    "plt.plot(p[0],p[1],\"bo\")\n",
    "plt.axis([0.5,3.5,0.5,3.5])"
   ]
  },
  {
   "cell_type": "code",
   "execution_count": 5,
   "id": "4e90f077",
   "metadata": {},
   "outputs": [],
   "source": [
    "distances = np.zeros(points.shape[0])\n",
    "for i in range(len(points)):\n",
    "    distances[i]=distance(p,points[i])"
   ]
  },
  {
   "cell_type": "code",
   "execution_count": 6,
   "id": "e1ece5aa",
   "metadata": {},
   "outputs": [
    {
     "data": {
      "text/plain": [
       "array([1.80277564, 1.5       , 1.80277564, 1.11803399, 0.5       ,\n",
       "       1.11803399, 1.11803399, 0.5       , 1.11803399])"
      ]
     },
     "execution_count": 6,
     "metadata": {},
     "output_type": "execute_result"
    }
   ],
   "source": [
    "distances"
   ]
  },
  {
   "cell_type": "code",
   "execution_count": 7,
   "id": "814f9017",
   "metadata": {},
   "outputs": [],
   "source": [
    "ind = np.argsort(distances)"
   ]
  },
  {
   "cell_type": "code",
   "execution_count": 8,
   "id": "bdf48ccf",
   "metadata": {},
   "outputs": [
    {
     "data": {
      "text/plain": [
       "array([0.5, 0.5])"
      ]
     },
     "execution_count": 8,
     "metadata": {},
     "output_type": "execute_result"
    }
   ],
   "source": [
    "distances[ind[0:2]]"
   ]
  },
  {
   "cell_type": "code",
   "execution_count": 9,
   "id": "4def342c",
   "metadata": {},
   "outputs": [],
   "source": [
    "# Function \n",
    "def find_nearest_neignbors(p,points,k=4):\n",
    "    distances = np.zeros(points.shape[0])\n",
    "    for i in range(len(points)):\n",
    "        distances[i]=distance(p,points[i])\n",
    "    ind = np.argsort(distances)\n",
    "    return ind[:k]\n",
    "    "
   ]
  },
  {
   "cell_type": "code",
   "execution_count": 10,
   "id": "3b2a6385",
   "metadata": {},
   "outputs": [
    {
     "name": "stdout",
     "output_type": "stream",
     "text": [
      "[[2 2]\n",
      " [3 2]\n",
      " [2 1]]\n"
     ]
    }
   ],
   "source": [
    "index = find_nearest_neignbors(p,points,3)\n",
    "print(points[index])"
   ]
  },
  {
   "cell_type": "code",
   "execution_count": 11,
   "id": "aabdab39",
   "metadata": {},
   "outputs": [
    {
     "data": {
      "text/plain": [
       "9"
      ]
     },
     "execution_count": 11,
     "metadata": {},
     "output_type": "execute_result"
    }
   ],
   "source": [
    "# Pre Prediction points for predicting \n",
    "# class to predict new point\n",
    "outcomes = np.array([0,0,0,0,1,1,1,1,1])\n",
    "len(outcomes)"
   ]
  },
  {
   "cell_type": "code",
   "execution_count": 12,
   "id": "05c1e791",
   "metadata": {},
   "outputs": [],
   "source": [
    "# Predictions \n",
    "def knn_predict(p, points, outcomes, k = 5):\n",
    "    ind = find_nearest_neignbors(p,points,k)\n",
    "    return majority_vote(outcomes[ind])"
   ]
  },
  {
   "cell_type": "code",
   "execution_count": 13,
   "id": "9e7a68b1",
   "metadata": {},
   "outputs": [
    {
     "data": {
      "text/plain": [
       "1"
      ]
     },
     "execution_count": 13,
     "metadata": {},
     "output_type": "execute_result"
    }
   ],
   "source": [
    "knn_predict(np.array([1,3.7]), points, outcomes,k = 4)"
   ]
  },
  {
   "cell_type": "markdown",
   "id": "01dd8a04",
   "metadata": {},
   "source": [
    "## Generating synthetic data \n"
   ]
  },
  {
   "cell_type": "code",
   "execution_count": 14,
   "id": "b8c3a5db",
   "metadata": {},
   "outputs": [],
   "source": [
    "import scipy.stats as ss"
   ]
  },
  {
   "cell_type": "code",
   "execution_count": 15,
   "id": "229a5005",
   "metadata": {},
   "outputs": [],
   "source": [
    "# ss.norm(0,1).rvs((5,2))# 5 rows and 2 columns\n"
   ]
  },
  {
   "cell_type": "code",
   "execution_count": 16,
   "id": "b48c4d13",
   "metadata": {},
   "outputs": [],
   "source": [
    "# ss.norm(1,1).rvs((5,2)) # 5 rows and 2 columns\n"
   ]
  },
  {
   "cell_type": "code",
   "execution_count": 17,
   "id": "594441ec",
   "metadata": {},
   "outputs": [],
   "source": [
    "# np.concatenate((ss.norm(0,1).rvs((5,2)),ss.norm(1,1).rvs((5,2))),axis=0)"
   ]
  },
  {
   "cell_type": "code",
   "execution_count": 18,
   "id": "5e0ca6ca",
   "metadata": {},
   "outputs": [],
   "source": [
    "# # Creates array of 0 and 1 specified n as number of times we want\n",
    "# n=5\n",
    "# outcomes = np.concatenate((np.repeat(0,n),np.repeat(1,n)))\n",
    "# outcomes"
   ]
  },
  {
   "cell_type": "code",
   "execution_count": 19,
   "id": "cbac307b",
   "metadata": {},
   "outputs": [],
   "source": [
    "def generate_synth_data(n = 50):\n",
    "    \"\"\"Create two sets of points from bivariate normal distributions.\"\"\"\n",
    "    points = np.concatenate((ss.norm(0,1).rvs((n,2)),ss.norm(1,1).rvs((n,2))),axis=0)\n",
    "    outcomes = np.concatenate((np.repeat(0,n),np.repeat(1,n)))\n",
    "    return (points , outcomes)"
   ]
  },
  {
   "cell_type": "code",
   "execution_count": 20,
   "id": "470da53b",
   "metadata": {},
   "outputs": [],
   "source": [
    "(points , outcomes )= generate_synth_data(20)"
   ]
  },
  {
   "cell_type": "code",
   "execution_count": 21,
   "id": "64525e0b",
   "metadata": {},
   "outputs": [
    {
     "data": {
      "text/plain": [
       "[<matplotlib.lines.Line2D at 0x7fbbc33d7810>]"
      ]
     },
     "execution_count": 21,
     "metadata": {},
     "output_type": "execute_result"
    },
    {
     "data": {
      "image/png": "[encoded data removed]",
      "text/plain": [
       "<Figure size 432x288 with 1 Axes>"
      ]
     },
     "metadata": {
      "needs_background": "light"
     },
     "output_type": "display_data"
    }
   ],
   "source": [
    "def generate_synth_data(n = 50):\n",
    "    \"\"\"Create two sets of points from bivariate normal distributions.\"\"\"\n",
    "    points = np.concatenate((ss.norm(0,1).rvs((n,2)),ss.norm(1,1).rvs((n,2))),axis=0)\n",
    "    outcomes = np.concatenate((np.repeat(0,n),np.repeat(1,n)))\n",
    "    return (points , outcomes)\n",
    "n = 20\n",
    "plt.figure()\n",
    "plt.plot(points[:n,0],points[:n,1],\"ro\")\n",
    "plt.plot(points[n:,0],points[n:,1],\"bo\")"
   ]
  },
  {
   "cell_type": "code",
   "execution_count": 22,
   "id": "b7609212",
   "metadata": {},
   "outputs": [],
   "source": [
    "# Creating a prediction grid\n",
    "\n",
    "def make_prediction_grid(predictors, outcomes, limits, h, k):\n",
    "    \"\"\"Classify each point on prediction grid\"\"\"\n",
    "    (x_min,x_max,y_min,y_max) = limits\n",
    "    xs = np.arange(x_min,x_max,h)\n",
    "    ys = np.arange(y_min,y_max,h)\n",
    "    xx, yy = np.meshgrid(xs,ys)\n",
    "    \n",
    "    prediction_grid = np.zeros(xx.shape, dtype = int)\n",
    "    for i,x in enumerate(xs):\n",
    "        for j,y in enumerate(ys):\n",
    "            p = np.array([x,y])\n",
    "            prediction_grid[j,i] = knn_predict(p, predictors, outcomes, k)\n",
    "    return (xx, yy, prediction_grid)"
   ]
  },
  {
   "cell_type": "markdown",
   "id": "ed2e960e",
   "metadata": {},
   "source": [
    "# Plotting the prediction grid "
   ]
  },
  {
   "cell_type": "code",
   "execution_count": 23,
   "id": "28ba7229",
   "metadata": {},
   "outputs": [],
   "source": [
    "# Function to plot predictions \n",
    "def plot_prediction_grid (xx, yy, prediction_grid, filename):\n",
    "    \"\"\" Plot KNN predictions for every point on the grid.\"\"\"\n",
    "    from matplotlib.colors import ListedColormap\n",
    "    background_colormap = ListedColormap ([\"hotpink\",\"lightskyblue\", \"yellowgreen\"])\n",
    "    observation_colormap = ListedColormap ([\"red\",\"blue\",\"green\"])\n",
    "    plt.figure(figsize =(10,10))\n",
    "    plt.pcolormesh(xx, yy, prediction_grid, cmap = background_colormap, alpha = 0.5)\n",
    "    plt.scatter(predictors[:,0], predictors [:,1], c = outcomes, cmap = observation_colormap, s = 50)\n",
    "    plt.xlabel('Variable 1'); plt.ylabel('Variable 2')\n",
    "    plt.xticks(()); plt.yticks(())\n",
    "    plt.xlim (np.min(xx), np.max(xx))\n",
    "    plt.ylim (np.min(yy), np.max(yy))\n",
    "    plt.savefig(filename)"
   ]
  },
  {
   "cell_type": "code",
   "execution_count": 24,
   "id": "a13818fb",
   "metadata": {},
   "outputs": [],
   "source": [
    "(predictors , outcomes )= generate_synth_data()"
   ]
  },
  {
   "cell_type": "code",
   "execution_count": 25,
   "id": "fd9e9991",
   "metadata": {},
   "outputs": [
    {
     "data": {
      "text/plain": [
       "(100, 2)"
      ]
     },
     "execution_count": 25,
     "metadata": {},
     "output_type": "execute_result"
    }
   ],
   "source": [
    "predictors.shape"
   ]
  },
  {
   "cell_type": "code",
   "execution_count": 26,
   "id": "0bf38e0d",
   "metadata": {},
   "outputs": [
    {
     "data": {
      "text/plain": [
       "(100,)"
      ]
     },
     "execution_count": 26,
     "metadata": {},
     "output_type": "execute_result"
    }
   ],
   "source": [
    "outcomes.shape"
   ]
  },
  {
   "cell_type": "code",
   "execution_count": 27,
   "id": "426996c7",
   "metadata": {
    "scrolled": true
   },
   "outputs": [
    {
     "data": {
      "image/png": "[encoded data removed]",
      "text/plain": [
       "<Figure size 720x720 with 1 Axes>"
      ]
     },
     "metadata": {},
     "output_type": "display_data"
    }
   ],
   "source": [
    "k = 5 ; filename = \"Knn_Synth_5.pdf\"; limits = (-3,4,-3,4); h = 0.1\n",
    "\n",
    "(xx, yy, prediction_grid)=make_prediction_grid(predictors, outcomes, limits, h, k)\n",
    "plot_prediction_grid(xx, yy, prediction_grid, filename)"
   ]
  },
  {
   "cell_type": "code",
   "execution_count": 28,
   "id": "21d40f9d",
   "metadata": {},
   "outputs": [
    {
     "data": {
      "image/png": "[encoded data removed]",
      "text/plain": [
       "<Figure size 720x720 with 1 Axes>"
      ]
     },
     "metadata": {},
     "output_type": "display_data"
    }
   ],
   "source": [
    "k = 50 ; filename = \"Knn_Synth_50.pdf\"; limits = (-3,4,-3,4); h = 0.1\n",
    "(xx, yy, prediction_grid)=make_prediction_grid(predictors, outcomes, limits, h, k)\n",
    "plot_prediction_grid(xx, yy, prediction_grid, filename)"
   ]
  },
  {
   "cell_type": "markdown",
   "id": "5d9a943b",
   "metadata": {},
   "source": [
    "#### changing the value of \"K\" can maximize the accuracy"
   ]
  },
  {
   "cell_type": "markdown",
   "id": "996a9253",
   "metadata": {},
   "source": [
    "## Applying KNN Classacifier made by me and the one from sklearn and compare them "
   ]
  },
  {
   "cell_type": "code",
   "execution_count": 29,
   "id": "40d55f76",
   "metadata": {},
   "outputs": [],
   "source": [
    "from sklearn import datasets"
   ]
  },
  {
   "cell_type": "code",
   "execution_count": 30,
   "id": "da7d364f",
   "metadata": {},
   "outputs": [],
   "source": [
    "iris = datasets.load_iris()"
   ]
  },
  {
   "cell_type": "code",
   "execution_count": 31,
   "id": "980c7795",
   "metadata": {},
   "outputs": [
    {
     "data": {
      "text/plain": [
       "{'data': array([[5.1, 3.5, 1.4, 0.2],\n",
       "        [4.9, 3. , 1.4, 0.2],\n",
       "        [4.7, 3.2, 1.3, 0.2],\n",
       "        [4.6, 3.1, 1.5, 0.2],\n",
       "        [5. , 3.6, 1.4, 0.2],\n",
       "        [5.4, 3.9, 1.7, 0.4],\n",
       "        [4.6, 3.4, 1.4, 0.3],\n",
       "        [5. , 3.4, 1.5, 0.2],\n",
       "        [4.4, 2.9, 1.4, 0.2],\n",
       "        [4.9, 3.1, 1.5, 0.1],\n",
       "        [5.4, 3.7, 1.5, 0.2],\n",
       "        [4.8, 3.4, 1.6, 0.2],\n",
       "        [4.8, 3. , 1.4, 0.1],\n",
       "        [4.3, 3. , 1.1, 0.1],\n",
       "        [5.8, 4. , 1.2, 0.2],\n",
       "        [5.7, 4.4, 1.5, 0.4],\n",
       "        [5.4, 3.9, 1.3, 0.4],\n",
       "        [5.1, 3.5, 1.4, 0.3],\n",
       "        [5.7, 3.8, 1.7, 0.3],\n",
       "        [5.1, 3.8, 1.5, 0.3],\n",
       "        [5.4, 3.4, 1.7, 0.2],\n",
       "        [5.1, 3.7, 1.5, 0.4],\n",
       "        [4.6, 3.6, 1. , 0.2],\n",
       "        [5.1, 3.3, 1.7, 0.5],\n",
       "        [4.8, 3.4, 1.9, 0.2],\n",
       "        [5. , 3. , 1.6, 0.2],\n",
       "        [5. , 3.4, 1.6, 0.4],\n",
       "        [5.2, 3.5, 1.5, 0.2],\n",
       "        [5.2, 3.4, 1.4, 0.2],\n",
       "        [4.7, 3.2, 1.6, 0.2],\n",
       "        [4.8, 3.1, 1.6, 0.2],\n",
       "        [5.4, 3.4, 1.5, 0.4],\n",
       "        [5.2, 4.1, 1.5, 0.1],\n",
       "        [5.5, 4.2, 1.4, 0.2],\n",
       "        [4.9, 3.1, 1.5, 0.2],\n",
       "        [5. , 3.2, 1.2, 0.2],\n",
       "        [5.5, 3.5, 1.3, 0.2],\n",
       "        [4.9, 3.6, 1.4, 0.1],\n",
       "        [4.4, 3. , 1.3, 0.2],\n",
       "        [5.1, 3.4, 1.5, 0.2],\n",
       "        [5. , 3.5, 1.3, 0.3],\n",
       "        [4.5, 2.3, 1.3, 0.3],\n",
       "        [4.4, 3.2, 1.3, 0.2],\n",
       "        [5. , 3.5, 1.6, 0.6],\n",
       "        [5.1, 3.8, 1.9, 0.4],\n",
       "        [4.8, 3. , 1.4, 0.3],\n",
       "        [5.1, 3.8, 1.6, 0.2],\n",
       "        [4.6, 3.2, 1.4, 0.2],\n",
       "        [5.3, 3.7, 1.5, 0.2],\n",
       "        [5. , 3.3, 1.4, 0.2],\n",
       "        [7. , 3.2, 4.7, 1.4],\n",
       "        [6.4, 3.2, 4.5, 1.5],\n",
       "        [6.9, 3.1, 4.9, 1.5],\n",
       "        [5.5, 2.3, 4. , 1.3],\n",
       "        [6.5, 2.8, 4.6, 1.5],\n",
       "        [5.7, 2.8, 4.5, 1.3],\n",
       "        [6.3, 3.3, 4.7, 1.6],\n",
       "        [4.9, 2.4, 3.3, 1. ],\n",
       "        [6.6, 2.9, 4.6, 1.3],\n",
       "        [5.2, 2.7, 3.9, 1.4],\n",
       "        [5. , 2. , 3.5, 1. ],\n",
       "        [5.9, 3. , 4.2, 1.5],\n",
       "        [6. , 2.2, 4. , 1. ],\n",
       "        [6.1, 2.9, 4.7, 1.4],\n",
       "        [5.6, 2.9, 3.6, 1.3],\n",
       "        [6.7, 3.1, 4.4, 1.4],\n",
       "        [5.6, 3. , 4.5, 1.5],\n",
       "        [5.8, 2.7, 4.1, 1. ],\n",
       "        [6.2, 2.2, 4.5, 1.5],\n",
       "        [5.6, 2.5, 3.9, 1.1],\n",
       "        [5.9, 3.2, 4.8, 1.8],\n",
       "        [6.1, 2.8, 4. , 1.3],\n",
       "        [6.3, 2.5, 4.9, 1.5],\n",
       "        [6.1, 2.8, 4.7, 1.2],\n",
       "        [6.4, 2.9, 4.3, 1.3],\n",
       "        [6.6, 3. , 4.4, 1.4],\n",
       "        [6.8, 2.8, 4.8, 1.4],\n",
       "        [6.7, 3. , 5. , 1.7],\n",
       "        [6. , 2.9, 4.5, 1.5],\n",
       "        [5.7, 2.6, 3.5, 1. ],\n",
       "        [5.5, 2.4, 3.8, 1.1],\n",
       "        [5.5, 2.4, 3.7, 1. ],\n",
       "        [5.8, 2.7, 3.9, 1.2],\n",
       "        [6. , 2.7, 5.1, 1.6],\n",
       "        [5.4, 3. , 4.5, 1.5],\n",
       "        [6. , 3.4, 4.5, 1.6],\n",
       "        [6.7, 3.1, 4.7, 1.5],\n",
       "        [6.3, 2.3, 4.4, 1.3],\n",
       "        [5.6, 3. , 4.1, 1.3],\n",
       "        [5.5, 2.5, 4. , 1.3],\n",
       "        [5.5, 2.6, 4.4, 1.2],\n",
       "        [6.1, 3. , 4.6, 1.4],\n",
       "        [5.8, 2.6, 4. , 1.2],\n",
       "        [5. , 2.3, 3.3, 1. ],\n",
       "        [5.6, 2.7, 4.2, 1.3],\n",
       "        [5.7, 3. , 4.2, 1.2],\n",
       "        [5.7, 2.9, 4.2, 1.3],\n",
       "        [6.2, 2.9, 4.3, 1.3],\n",
       "        [5.1, 2.5, 3. , 1.1],\n",
       "        [5.7, 2.8, 4.1, 1.3],\n",
       "        [6.3, 3.3, 6. , 2.5],\n",
       "        [5.8, 2.7, 5.1, 1.9],\n",
       "        [7.1, 3. , 5.9, 2.1],\n",
       "        [6.3, 2.9, 5.6, 1.8],\n",
       "        [6.5, 3. , 5.8, 2.2],\n",
       "        [7.6, 3. , 6.6, 2.1],\n",
       "        [4.9, 2.5, 4.5, 1.7],\n",
       "        [7.3, 2.9, 6.3, 1.8],\n",
       "        [6.7, 2.5, 5.8, 1.8],\n",
       "        [7.2, 3.6, 6.1, 2.5],\n",
       "        [6.5, 3.2, 5.1, 2. ],\n",
       "        [6.4, 2.7, 5.3, 1.9],\n",
       "        [6.8, 3. , 5.5, 2.1],\n",
       "        [5.7, 2.5, 5. , 2. ],\n",
       "        [5.8, 2.8, 5.1, 2.4],\n",
       "        [6.4, 3.2, 5.3, 2.3],\n",
       "        [6.5, 3. , 5.5, 1.8],\n",
       "        [7.7, 3.8, 6.7, 2.2],\n",
       "        [7.7, 2.6, 6.9, 2.3],\n",
       "        [6. , 2.2, 5. , 1.5],\n",
       "        [6.9, 3.2, 5.7, 2.3],\n",
       "        [5.6, 2.8, 4.9, 2. ],\n",
       "        [7.7, 2.8, 6.7, 2. ],\n",
       "        [6.3, 2.7, 4.9, 1.8],\n",
       "        [6.7, 3.3, 5.7, 2.1],\n",
       "        [7.2, 3.2, 6. , 1.8],\n",
       "        [6.2, 2.8, 4.8, 1.8],\n",
       "        [6.1, 3. , 4.9, 1.8],\n",
       "        [6.4, 2.8, 5.6, 2.1],\n",
       "        [7.2, 3. , 5.8, 1.6],\n",
       "        [7.4, 2.8, 6.1, 1.9],\n",
       "        [7.9, 3.8, 6.4, 2. ],\n",
       "        [6.4, 2.8, 5.6, 2.2],\n",
       "        [6.3, 2.8, 5.1, 1.5],\n",
       "        [6.1, 2.6, 5.6, 1.4],\n",
       "        [7.7, 3. , 6.1, 2.3],\n",
       "        [6.3, 3.4, 5.6, 2.4],\n",
       "        [6.4, 3.1, 5.5, 1.8],\n",
       "        [6. , 3. , 4.8, 1.8],\n",
       "        [6.9, 3.1, 5.4, 2.1],\n",
       "        [6.7, 3.1, 5.6, 2.4],\n",
       "        [6.9, 3.1, 5.1, 2.3],\n",
       "        [5.8, 2.7, 5.1, 1.9],\n",
       "        [6.8, 3.2, 5.9, 2.3],\n",
       "        [6.7, 3.3, 5.7, 2.5],\n",
       "        [6.7, 3. , 5.2, 2.3],\n",
       "        [6.3, 2.5, 5. , 1.9],\n",
       "        [6.5, 3. , 5.2, 2. ],\n",
       "        [6.2, 3.4, 5.4, 2.3],\n",
       "        [5.9, 3. , 5.1, 1.8]]),\n",
       " 'target': array([0, 0, 0, 0, 0, 0, 0, 0, 0, 0, 0, 0, 0, 0, 0, 0, 0, 0, 0, 0, 0, 0,\n",
       "        0, 0, 0, 0, 0, 0, 0, 0, 0, 0, 0, 0, 0, 0, 0, 0, 0, 0, 0, 0, 0, 0,\n",
       "        0, 0, 0, 0, 0, 0, 1, 1, 1, 1, 1, 1, 1, 1, 1, 1, 1, 1, 1, 1, 1, 1,\n",
       "        1, 1, 1, 1, 1, 1, 1, 1, 1, 1, 1, 1, 1, 1, 1, 1, 1, 1, 1, 1, 1, 1,\n",
       "        1, 1, 1, 1, 1, 1, 1, 1, 1, 1, 1, 1, 2, 2, 2, 2, 2, 2, 2, 2, 2, 2,\n",
       "        2, 2, 2, 2, 2, 2, 2, 2, 2, 2, 2, 2, 2, 2, 2, 2, 2, 2, 2, 2, 2, 2,\n",
       "        2, 2, 2, 2, 2, 2, 2, 2, 2, 2, 2, 2, 2, 2, 2, 2, 2, 2]),\n",
       " 'frame': None,\n",
       " 'target_names': array(['setosa', 'versicolor', 'virginica'], dtype='<U10'),\n",
       " 'DESCR': '.. _iris_dataset:\\n\\nIris plants dataset\\n--------------------\\n\\n**Data Set Characteristics:**\\n\\n    :Number of Instances: 150 (50 in each of three classes)\\n    :Number of Attributes: 4 numeric, predictive attributes and the class\\n    :Attribute Information:\\n        - sepal length in cm\\n        - sepal width in cm\\n        - petal length in cm\\n        - petal width in cm\\n        - class:\\n                - Iris-Setosa\\n                - Iris-Versicolour\\n                - Iris-Virginica\\n                \\n    :Summary Statistics:\\n\\n    ============== ==== ==== ======= ===== ====================\\n                    Min  Max   Mean    SD   Class Correlation\\n    ============== ==== ==== ======= ===== ====================\\n    sepal length:   4.3  7.9   5.84   0.83    0.7826\\n    sepal width:    2.0  4.4   3.05   0.43   -0.4194\\n    petal length:   1.0  6.9   3.76   1.76    0.9490  (high!)\\n    petal width:    0.1  2.5   1.20   0.76    0.9565  (high!)\\n    ============== ==== ==== ======= ===== ====================\\n\\n    :Missing Attribute Values: None\\n    :Class Distribution: 33.3% for each of 3 classes.\\n    :Creator: R.A. Fisher\\n    :Donor: Michael Marshall (MARSHALL%PLU@io.arc.nasa.gov)\\n    :Date: July, 1988\\n\\nThe famous Iris database, first used by Sir R.A. Fisher. The dataset is taken\\nfrom Fisher\\'s paper. Note that it\\'s the same as in R, but not as in the UCI\\nMachine Learning Repository, which has two wrong data points.\\n\\nThis is perhaps the best known database to be found in the\\npattern recognition literature.  Fisher\\'s paper is a classic in the field and\\nis referenced frequently to this day.  (See Duda & Hart, for example.)  The\\ndata set contains 3 classes of 50 instances each, where each class refers to a\\ntype of iris plant.  One class is linearly separable from the other 2; the\\nlatter are NOT linearly separable from each other.\\n\\n.. topic:: References\\n\\n   - Fisher, R.A. \"The use of multiple measurements in taxonomic problems\"\\n     Annual Eugenics, 7, Part II, 179-188 (1936); also in \"Contributions to\\n     Mathematical Statistics\" (John Wiley, NY, 1950).\\n   - Duda, R.O., & Hart, P.E. (1973) Pattern Classification and Scene Analysis.\\n     (Q327.D83) John Wiley & Sons.  ISBN 0-471-22361-1.  See page 218.\\n   - Dasarathy, B.V. (1980) \"Nosing Around the Neighborhood: A New System\\n     Structure and Classification Rule for Recognition in Partially Exposed\\n     Environments\".  IEEE Transactions on Pattern Analysis and Machine\\n     Intelligence, Vol. PAMI-2, No. 1, 67-71.\\n   - Gates, G.W. (1972) \"The Reduced Nearest Neighbor Rule\".  IEEE Transactions\\n     on Information Theory, May 1972, 431-433.\\n   - See also: 1988 MLC Proceedings, 54-64.  Cheeseman et al\"s AUTOCLASS II\\n     conceptual clustering system finds 3 classes in the data.\\n   - Many, many more ...',\n",
       " 'feature_names': ['sepal length (cm)',\n",
       "  'sepal width (cm)',\n",
       "  'petal length (cm)',\n",
       "  'petal width (cm)'],\n",
       " 'filename': 'iris.csv',\n",
       " 'data_module': 'sklearn.datasets.data'}"
      ]
     },
     "execution_count": 31,
     "metadata": {},
     "output_type": "execute_result"
    }
   ],
   "source": [
    "iris"
   ]
  },
  {
   "cell_type": "markdown",
   "id": "2da8c6da",
   "metadata": {},
   "source": [
    "# Plotting iris data set"
   ]
  },
  {
   "cell_type": "code",
   "execution_count": 32,
   "id": "3ee346b4",
   "metadata": {},
   "outputs": [],
   "source": [
    "predictors = iris.data[:,0:2]\n",
    "outcomes = iris.target"
   ]
  },
  {
   "cell_type": "code",
   "execution_count": 33,
   "id": "972a52ed",
   "metadata": {},
   "outputs": [
    {
     "data": {
      "text/plain": [
       "[<matplotlib.lines.Line2D at 0x7fbbc05c2210>]"
      ]
     },
     "execution_count": 33,
     "metadata": {},
     "output_type": "execute_result"
    },
    {
     "data": {
      "image/png": "[encoded data removed]",
      "text/plain": [
       "<Figure size 432x288 with 1 Axes>"
      ]
     },
     "metadata": {
      "needs_background": "light"
     },
     "output_type": "display_data"
    }
   ],
   "source": [
    "plt.plot(predictors[outcomes==0][:,0], predictors[outcomes==0][:,1], \"ro\")\n",
    "plt.plot(predictors[outcomes==1][:,0], predictors[outcomes==1][:,1], \"go\")\n",
    "plt.plot(predictors[outcomes==2][:,0], predictors[outcomes==2][:,1], \"bo\")\n"
   ]
  },
  {
   "cell_type": "code",
   "execution_count": 34,
   "id": "16944a5f",
   "metadata": {},
   "outputs": [
    {
     "data": {
      "image/png": "[encoded data removed]",
      "text/plain": [
       "<Figure size 720x720 with 1 Axes>"
      ]
     },
     "metadata": {},
     "output_type": "display_data"
    }
   ],
   "source": [
    "# Making prediction grid\n",
    "k = 5 ; filename = \"iris.pdf\"; limits = (4,8,1.5,4.4); h = 0.1\n",
    "(xx, yy, prediction_grid)=make_prediction_grid(predictors, outcomes, limits, h, k)\n",
    "plot_prediction_grid(xx, yy, prediction_grid, filename)"
   ]
  },
  {
   "cell_type": "code",
   "execution_count": 38,
   "id": "8fa50c78",
   "metadata": {},
   "outputs": [],
   "source": [
    "from sklearn.neighbors import KNeighborsClassifier\n",
    "knn = KNeighborsClassifier(n_neighbors = 5)\n",
    "knn.fit(predictors, outcomes)\n",
    "sk_predictions = knn.predict(predictors)"
   ]
  },
  {
   "cell_type": "code",
   "execution_count": 43,
   "id": "ee0764ac",
   "metadata": {},
   "outputs": [
    {
     "data": {
      "text/plain": [
       "array([0, 0, 0, 0, 0, 0, 0, 0, 0, 0, 0, 0, 0, 0, 0, 0, 0, 0, 0, 0, 0, 0,\n",
       "       0, 0, 0, 0, 0, 0, 0, 0, 0, 0, 0, 0, 0, 0, 0, 0, 0, 0, 0, 1, 0, 0,\n",
       "       0, 0, 0, 0, 0, 0, 2, 2, 2, 1, 2, 1, 2, 1, 1, 1, 1, 2, 1, 1, 1, 1,\n",
       "       1, 2, 1, 1, 1, 1, 2, 1, 2, 2, 1, 2, 1, 1, 1, 1, 2, 1, 1, 1, 1, 1,\n",
       "       1, 1, 1, 1, 1, 1, 1, 1, 1, 2, 1, 1, 2, 2, 2, 2, 2, 2, 1, 2, 1, 2,\n",
       "       2, 2, 2, 1, 1, 2, 2, 2, 2, 1, 2, 1, 2, 2, 2, 2, 1, 1, 2, 2, 2, 2,\n",
       "       2, 2, 1, 2, 2, 2, 2, 2, 1, 2, 2, 2, 2, 2, 2, 2, 2, 2])"
      ]
     },
     "execution_count": 43,
     "metadata": {},
     "output_type": "execute_result"
    }
   ],
   "source": [
    "sk_predictions"
   ]
  },
  {
   "cell_type": "code",
   "execution_count": 41,
   "id": "e3babff5",
   "metadata": {},
   "outputs": [],
   "source": [
    "my_predictions = np.array([knn_predict(p, predictors, outcomes, 5) for p in predictors])"
   ]
  },
  {
   "cell_type": "code",
   "execution_count": 42,
   "id": "b9526b02",
   "metadata": {},
   "outputs": [
    {
     "data": {
      "text/plain": [
       "array([0, 0, 0, 0, 0, 0, 0, 0, 0, 0, 0, 0, 0, 0, 0, 0, 0, 0, 0, 0, 0, 0,\n",
       "       0, 0, 0, 0, 0, 0, 0, 0, 0, 0, 0, 0, 0, 0, 0, 0, 0, 0, 0, 1, 0, 0,\n",
       "       0, 0, 0, 0, 0, 0, 2, 2, 2, 1, 2, 1, 2, 1, 1, 1, 1, 2, 1, 1, 1, 1,\n",
       "       1, 2, 1, 1, 1, 1, 2, 1, 2, 2, 1, 2, 1, 1, 1, 1, 2, 1, 1, 1, 1, 1,\n",
       "       1, 1, 1, 1, 1, 1, 1, 1, 1, 2, 1, 1, 2, 2, 2, 2, 2, 2, 1, 2, 2, 2,\n",
       "       2, 2, 2, 1, 1, 2, 2, 2, 2, 1, 2, 1, 2, 2, 2, 2, 1, 1, 2, 2, 2, 2,\n",
       "       2, 2, 1, 2, 2, 2, 2, 2, 1, 2, 2, 2, 2, 2, 2, 2, 2, 2])"
      ]
     },
     "execution_count": 42,
     "metadata": {},
     "output_type": "execute_result"
    }
   ],
   "source": [
    "my_predictions"
   ]
  },
  {
   "cell_type": "code",
   "execution_count": 47,
   "id": "f75aeb42",
   "metadata": {},
   "outputs": [
    {
     "data": {
      "text/plain": [
       "99.33333333333333"
      ]
     },
     "execution_count": 47,
     "metadata": {},
     "output_type": "execute_result"
    }
   ],
   "source": [
    "# compare the predictions of both models\n",
    "\n",
    "100*np.mean(sk_predictions == my_predictions)"
   ]
  },
  {
   "cell_type": "code",
   "execution_count": 50,
   "id": "67ee9465",
   "metadata": {},
   "outputs": [
    {
     "data": {
      "text/plain": [
       "84.66666666666667"
      ]
     },
     "execution_count": 50,
     "metadata": {},
     "output_type": "execute_result"
    }
   ],
   "source": [
    "# Check the accuracy of my model \n",
    "\n",
    "100*np.mean(my_predictions == outcomes)"
   ]
  },
  {
   "cell_type": "code",
   "execution_count": 51,
   "id": "13c10364",
   "metadata": {},
   "outputs": [
    {
     "data": {
      "text/plain": [
       "84.0"
      ]
     },
     "execution_count": 51,
     "metadata": {},
     "output_type": "execute_result"
    }
   ],
   "source": [
    "# Check the accuracy of sklearn  model \n",
    "\n",
    "100*np.mean(sk_predictions == outcomes)"
   ]
  },
  {
   "cell_type": "markdown",
   "id": "72512a97",
   "metadata": {},
   "source": [
    "## I am able to achive equal accuracy compare to the sklearn model with my model"
   ]
  }
 ],
 "metadata": {
  "kernelspec": {
   "display_name": "Python 3 (ipykernel)",
   "language": "python",
   "name": "python3"
  },
  "language_info": {
   "codemirror_mode": {
    "name": "ipython",
    "version": 3
   },
   "file_extension": ".py",
   "mimetype": "text/x-python",
   "name": "python",
   "nbconvert_exporter": "python",
   "pygments_lexer": "ipython3",
   "version": "3.7.6"
  }
 },
 "nbformat": 4,
 "nbformat_minor": 5
}
